{
 "cells": [
  {
   "cell_type": "code",
   "execution_count": 1,
   "id": "7df4938c",
   "metadata": {},
   "outputs": [],
   "source": [
    "#Importing libraries. \n",
    "#Using BeautifulSoup to extract data from Amazon website\n",
    "#Objective: To see price changes of an iPad on the Amazon website\n",
    "\n",
    "from bs4 import BeautifulSoup\n",
    "import requests\n",
    "import smtplib\n",
    "import time\n",
    "import datetime\n"
   ]
  },
  {
   "cell_type": "code",
   "execution_count": 2,
   "id": "c97130f1",
   "metadata": {},
   "outputs": [
    {
     "name": "stdout",
     "output_type": "stream",
     "text": [
      "\n",
      "           Apple 2022 iPad Air (10.9-inch, Wi-Fi, 64GB) - Blue (5th Generation)\n",
      "          \n",
      "$499\n"
     ]
    }
   ],
   "source": [
    "# Connect to Website\n",
    "\n",
    "URL = \"https://www.amazon.com/2022-Apple-iPad-10-9-inch-Wi-Fi/dp/B09V3JH3XS/ref=sr_1_1_sspa?crid=1YD9TC6Q0BX34&keywords=ipad&qid=1674192736&sprefix=ipad%2Caps%2C82&sr=8-1-spons&spLa=ZW5jcnlwdGVkUXVhbGlmaWVyPUEyMVEwTTNKS0FFUkRTJmVuY3J5cHRlZElkPUEwMDQxNzIwMlpORENER0w2SEhGVyZlbmNyeXB0ZWRBZElkPUEwODU2OTA5WFRVRjJROUlHTzdOJndpZGdldE5hbWU9c3BfYXRmJmFjdGlvbj1jbGlja1JlZGlyZWN0JmRvTm90TG9nQ2xpY2s9dHJ1ZQ&th=1\"\n",
    "\n",
    "headers = {'User-Agent': \"Mozilla/5.0 (Windows NT 10.0; Win64; x64) AppleWebKit/537.36 (KHTML, like Gecko) Chrome/108.0.0.0 Safari/537.36\", \"Accept-Encoding\": \"gzip, deflate\", \"Accept\": \"text/html,application/xhtml+xml,application/xml;q=0.9,*/*;q=0.8\", \"DNT\":\"1\", \"Connection\":\"close\", \"Upgrade-Insecure-Requests\":\"1\"}\n",
    "\n",
    "page = requests.get(URL, headers=headers) #Get's the page\n",
    "\n",
    "soup1 = BeautifulSoup(page.content, \"html.parser\") \n",
    "\n",
    "soup2 = BeautifulSoup(soup1.prettify(), \"html.parser\") #makes the script look cleaner\n",
    "\n",
    "title = soup2.find(id='productTitle').get_text() #title of the product\n",
    "\n",
    "price = soup2.find(id='corePriceDisplay_desktop_feature_div').get_text()\n",
    "price = price[(price.index(\"$\")):(price.index('9')+2)] #gets price of product\n",
    "\n",
    "print(title)\n",
    "print(price)"
   ]
  },
  {
   "cell_type": "code",
   "execution_count": 3,
   "id": "7c192d24",
   "metadata": {},
   "outputs": [
    {
     "name": "stdout",
     "output_type": "stream",
     "text": [
      "Apple 2022 iPad Air (10.9-inch, Wi-Fi, 64GB) - Blue (5th Generation)\n",
      "499\n"
     ]
    }
   ],
   "source": [
    "#Recentering everything to make sure that it aligns properly\n",
    "\n",
    "priceFixed = price[1:] #we don't want the dollar sign\n",
    "title = title.strip() #get's rid of excess spaces. Note: difference between lstrip, rstrip, and strip\n",
    "\n",
    "print(title)\n",
    "print(priceFixed)\n"
   ]
  },
  {
   "cell_type": "code",
   "execution_count": 4,
   "id": "743d28ba",
   "metadata": {},
   "outputs": [
    {
     "name": "stdout",
     "output_type": "stream",
     "text": [
      "2023-01-20\n"
     ]
    }
   ],
   "source": [
    "#from import datetime\n",
    "today = datetime.date.today()\n",
    "print(today)"
   ]
  },
  {
   "cell_type": "code",
   "execution_count": 5,
   "id": "c7906df3",
   "metadata": {},
   "outputs": [],
   "source": [
    "import csv  #want headers and data\n",
    "\n",
    "header = ['Title', 'Price', 'Date']\n",
    "data = [title, priceFixed, today]\n",
    "\n",
    "#opens excel file to use \n",
    "with open('AmazonWebScraperDataSet.csv', 'w', newline='', encoding = 'UTF8') as file:\n",
    "    writer = csv.writer(file)\n",
    "    writer.writerow(header)\n",
    "    writer.writerow(data)"
   ]
  },
  {
   "cell_type": "code",
   "execution_count": 6,
   "id": "bffeb04d",
   "metadata": {},
   "outputs": [
    {
     "name": "stdout",
     "output_type": "stream",
     "text": [
      "                                               Title  Price        Date\n",
      "0  Apple 2022 iPad Air (10.9-inch, Wi-Fi, 64GB) -...    499  2023-01-20\n"
     ]
    }
   ],
   "source": [
    "#Using pandas to read in data retrieved. \n",
    "\n",
    "import pandas as pd\n",
    "df = pd.read_csv(r'C:\\Users\\itoka\\AmazonWebScraperDataSet.csv')\n",
    "print(df)\n",
    "\n"
   ]
  },
  {
   "cell_type": "code",
   "execution_count": 7,
   "id": "4520b347",
   "metadata": {},
   "outputs": [],
   "source": [
    "#appending data to csv\n",
    "\n",
    "with open('AmazonWebScraperDataSet.csv', 'a+', newline='', encoding = 'UTF8') as file:\n",
    "    writer = csv.writer(file)\n",
    "    writer.writerow(data) #this will just write the same thing in a new row again. \n"
   ]
  },
  {
   "cell_type": "code",
   "execution_count": 8,
   "id": "9f2d6c8a",
   "metadata": {},
   "outputs": [],
   "source": [
    "def check_price(): #Copying code above and making it a function to loop over multiple times to update data\n",
    "    URL = \"https://www.amazon.com/2022-Apple-iPad-10-9-inch-Wi-Fi/dp/B09V3JH3XS/ref=sr_1_1_sspa?crid=1YD9TC6Q0BX34&keywords=ipad&qid=1674192736&sprefix=ipad%2Caps%2C82&sr=8-1-spons&spLa=ZW5jcnlwdGVkUXVhbGlmaWVyPUEyMVEwTTNKS0FFUkRTJmVuY3J5cHRlZElkPUEwMDQxNzIwMlpORENER0w2SEhGVyZlbmNyeXB0ZWRBZElkPUEwODU2OTA5WFRVRjJROUlHTzdOJndpZGdldE5hbWU9c3BfYXRmJmFjdGlvbj1jbGlja1JlZGlyZWN0JmRvTm90TG9nQ2xpY2s9dHJ1ZQ&th=1\"\n",
    "\n",
    "    headers = {'User-Agent': \"Mozilla/5.0 (Windows NT 10.0; Win64; x64) AppleWebKit/537.36 (KHTML, like Gecko) Chrome/108.0.0.0 Safari/537.36\", \"Accept-Encoding\": \"gzip, deflate\", \"Accept\": \"text/html,application/xhtml+xml,application/xml;q=0.9,*/*;q=0.8\", \"DNT\":\"1\", \"Connection\":\"close\", \"Upgrade-Insecure-Requests\":\"1\"}\n",
    "\n",
    "    page = requests.get(URL, headers=headers)\n",
    "\n",
    "    soup1 = BeautifulSoup(page.content, \"html.parser\")\n",
    "\n",
    "    soup2 = BeautifulSoup(soup1.prettify(), \"html.parser\")\n",
    "\n",
    "    title = soup2.find(id='productTitle').get_text()\n",
    "\n",
    "    price = soup2.find(id='corePriceDisplay_desktop_feature_div').get_text()\n",
    "    price = price[(price.index(\"$\")):(price.index('9')+2)]\n",
    "    \n",
    "    priceFixed = float(price[1:])\n",
    "    title = title.strip()\n",
    "    \n",
    "    today = datetime.date.today()\n",
    "    header = ['Title', 'Price', 'Date']\n",
    "    data = [title, priceFixed, today]\n",
    "    with open('AmazonWebScraperDataSet.csv', 'a+', newline='', encoding = 'UTF8') as file:\n",
    "        writer = csv.writer(file)\n",
    "        writer.writerow(data)"
   ]
  },
  {
   "cell_type": "code",
   "execution_count": null,
   "id": "6e1dcd05",
   "metadata": {},
   "outputs": [],
   "source": [
    "#To test to see if this works, we are going to update the csv every 5 seconds\n",
    "while True:\n",
    "    check_price()\n",
    "    time.sleep(5)"
   ]
  },
  {
   "cell_type": "code",
   "execution_count": 14,
   "id": "47bbb818",
   "metadata": {},
   "outputs": [
    {
     "data": {
      "text/html": [
       "<div>\n",
       "<style scoped>\n",
       "    .dataframe tbody tr th:only-of-type {\n",
       "        vertical-align: middle;\n",
       "    }\n",
       "\n",
       "    .dataframe tbody tr th {\n",
       "        vertical-align: top;\n",
       "    }\n",
       "\n",
       "    .dataframe thead th {\n",
       "        text-align: right;\n",
       "    }\n",
       "</style>\n",
       "<table border=\"1\" class=\"dataframe\">\n",
       "  <thead>\n",
       "    <tr style=\"text-align: right;\">\n",
       "      <th></th>\n",
       "      <th>Title</th>\n",
       "      <th>Price</th>\n",
       "      <th>Date</th>\n",
       "    </tr>\n",
       "  </thead>\n",
       "  <tbody>\n",
       "    <tr>\n",
       "      <th>0</th>\n",
       "      <td>Apple 2022 iPad Air (10.9-inch, Wi-Fi, 64GB) -...</td>\n",
       "      <td>499.0</td>\n",
       "      <td>2023-01-20</td>\n",
       "    </tr>\n",
       "    <tr>\n",
       "      <th>1</th>\n",
       "      <td>Apple 2022 iPad Air (10.9-inch, Wi-Fi, 64GB) -...</td>\n",
       "      <td>499.0</td>\n",
       "      <td>2023-01-20</td>\n",
       "    </tr>\n",
       "    <tr>\n",
       "      <th>2</th>\n",
       "      <td>Apple 2022 iPad Air (10.9-inch, Wi-Fi, 64GB) -...</td>\n",
       "      <td>499.0</td>\n",
       "      <td>2023-01-20</td>\n",
       "    </tr>\n",
       "    <tr>\n",
       "      <th>3</th>\n",
       "      <td>Apple 2022 iPad Air (10.9-inch, Wi-Fi, 64GB) -...</td>\n",
       "      <td>499.0</td>\n",
       "      <td>2023-01-20</td>\n",
       "    </tr>\n",
       "    <tr>\n",
       "      <th>4</th>\n",
       "      <td>Apple 2022 iPad Air (10.9-inch, Wi-Fi, 64GB) -...</td>\n",
       "      <td>499.0</td>\n",
       "      <td>2023-01-20</td>\n",
       "    </tr>\n",
       "    <tr>\n",
       "      <th>5</th>\n",
       "      <td>Apple 2022 iPad Air (10.9-inch, Wi-Fi, 64GB) -...</td>\n",
       "      <td>499.0</td>\n",
       "      <td>2023-01-20</td>\n",
       "    </tr>\n",
       "    <tr>\n",
       "      <th>6</th>\n",
       "      <td>Apple 2022 iPad Air (10.9-inch, Wi-Fi, 64GB) -...</td>\n",
       "      <td>499.0</td>\n",
       "      <td>2023-01-20</td>\n",
       "    </tr>\n",
       "    <tr>\n",
       "      <th>7</th>\n",
       "      <td>Apple 2022 iPad Air (10.9-inch, Wi-Fi, 64GB) -...</td>\n",
       "      <td>499.0</td>\n",
       "      <td>2023-01-20</td>\n",
       "    </tr>\n",
       "    <tr>\n",
       "      <th>8</th>\n",
       "      <td>Apple 2022 iPad Air (10.9-inch, Wi-Fi, 64GB) -...</td>\n",
       "      <td>499.0</td>\n",
       "      <td>2023-01-20</td>\n",
       "    </tr>\n",
       "    <tr>\n",
       "      <th>9</th>\n",
       "      <td>Apple 2022 iPad Air (10.9-inch, Wi-Fi, 64GB) -...</td>\n",
       "      <td>499.0</td>\n",
       "      <td>2023-01-20</td>\n",
       "    </tr>\n",
       "    <tr>\n",
       "      <th>10</th>\n",
       "      <td>Apple 2022 iPad Air (10.9-inch, Wi-Fi, 64GB) -...</td>\n",
       "      <td>499.0</td>\n",
       "      <td>2023-01-20</td>\n",
       "    </tr>\n",
       "  </tbody>\n",
       "</table>\n",
       "</div>"
      ],
      "text/plain": [
       "                                                Title  Price        Date\n",
       "0   Apple 2022 iPad Air (10.9-inch, Wi-Fi, 64GB) -...  499.0  2023-01-20\n",
       "1   Apple 2022 iPad Air (10.9-inch, Wi-Fi, 64GB) -...  499.0  2023-01-20\n",
       "2   Apple 2022 iPad Air (10.9-inch, Wi-Fi, 64GB) -...  499.0  2023-01-20\n",
       "3   Apple 2022 iPad Air (10.9-inch, Wi-Fi, 64GB) -...  499.0  2023-01-20\n",
       "4   Apple 2022 iPad Air (10.9-inch, Wi-Fi, 64GB) -...  499.0  2023-01-20\n",
       "5   Apple 2022 iPad Air (10.9-inch, Wi-Fi, 64GB) -...  499.0  2023-01-20\n",
       "6   Apple 2022 iPad Air (10.9-inch, Wi-Fi, 64GB) -...  499.0  2023-01-20\n",
       "7   Apple 2022 iPad Air (10.9-inch, Wi-Fi, 64GB) -...  499.0  2023-01-20\n",
       "8   Apple 2022 iPad Air (10.9-inch, Wi-Fi, 64GB) -...  499.0  2023-01-20\n",
       "9   Apple 2022 iPad Air (10.9-inch, Wi-Fi, 64GB) -...  499.0  2023-01-20\n",
       "10  Apple 2022 iPad Air (10.9-inch, Wi-Fi, 64GB) -...  499.0  2023-01-20"
      ]
     },
     "execution_count": 14,
     "metadata": {},
     "output_type": "execute_result"
    }
   ],
   "source": [
    "#Testing the above command\n",
    "import pandas as pd\n",
    "df = pd.read_csv(r'C:\\Users\\itoka\\AmazonWebScraperDataSet.csv')\n",
    "\n",
    "pd.set_option('display.max_rows', 15) #max rows displayed = 15\n",
    "\n",
    "df"
   ]
  },
  {
   "cell_type": "code",
   "execution_count": null,
   "id": "05a59a9d",
   "metadata": {},
   "outputs": [],
   "source": [
    "#if we want to check the price everyday...\n",
    "\n",
    "#while True:\n",
    "   # check_price()\n",
    "   # time.sleep(86400) #seconds, therefore, checks the price everyday as there are 86,400 seconds in a dya"
   ]
  }
 ],
 "metadata": {
  "kernelspec": {
   "display_name": "Python 3 (ipykernel)",
   "language": "python",
   "name": "python3"
  },
  "language_info": {
   "codemirror_mode": {
    "name": "ipython",
    "version": 3
   },
   "file_extension": ".py",
   "mimetype": "text/x-python",
   "name": "python",
   "nbconvert_exporter": "python",
   "pygments_lexer": "ipython3",
   "version": "3.9.13"
  }
 },
 "nbformat": 4,
 "nbformat_minor": 5
}
